{
 "cells": [
  {
   "cell_type": "code",
   "execution_count": 46,
   "metadata": {
    "scrolled": true
   },
   "outputs": [
    {
     "name": "stdout",
     "output_type": "stream",
     "text": [
      "headerdict {'area': 1, 'st': 'AL', 'state': 'Alabama', 'occ_code': '25-2022', 'occ_title': 'Middle school teachers, except special and vocational education', 'group': nan, 'tot_emp': 8310, 'emp_prse': 10.4, 'h_mean': '*', 'a_mean': 40440, 'mean_prse': 2.1, 'h_wpct10': '*', 'h_wpct25': '*', 'h_median': '*', 'h_wpct75': '*', 'h_wpct90': '*', 'a_wpct10': 31600, 'a_wpct25': 35590, 'a_median': 40540, 'a_wpct75': 45390, 'a_wpct90': 51350, 'annual': True}\n",
      "\n",
      " {}\n"
     ]
    }
   ],
   "source": [
    "import os\n",
    "import numpy as np\n",
    "import pandas as pd\n",
    "import xlrd\n",
    "\n",
    "\n",
    "datafile='state_sample_dl.xls'\n",
    "cwd=os.getcwd()\n",
    "datafolder='StateOESDatasets'\n",
    "ss = os.path.join(cwd,datafile)\n",
    "readxls = pd.read_excel(ss)\n",
    "listrow=list(readxls.loc[1,:])\n",
    "r1=[]\n",
    "r1dtype=[]\n",
    "header=[]\n",
    "headercols = readxls.columns.values.tolist()\n",
    "\n",
    "for x in listrow:\n",
    "    if isinstance(x, np.generic):\n",
    "        x = np.asscalar(x)\n",
    "\n",
    "\n",
    "\n",
    "headerdict={}\n",
    "def headerdicter(a,b):\n",
    "    headerdict=dict((zip(a,b)))\n",
    "    print ('headerdict', headerdict)\n",
    "\n",
    "headerdicter(headercols, listrow)\n",
    "\n",
    "\n",
    "print(\"\\n\",headerdict)\n",
    "\n"
   ]
  },
  {
   "cell_type": "code",
   "execution_count": 5,
   "metadata": {},
   "outputs": [
    {
     "name": "stdout",
     "output_type": "stream",
     "text": [
      "[1, 'AL', 'Alabama', '25-2021', 'Elementary school teachers, except special education', nan, 17350, 7.4, '*', 39370, 1.6, '*', '*', '*', '*', '*', 31060, 34800, 39680, 44170, 48320, True]\n"
     ]
    }
   ],
   "source": [
    "#for xls file\n",
    "\n",
    "import os\n",
    "import pandas as pd\n",
    "\n",
    "\n",
    "#path variables\n",
    "datafile='state_sample_dl.xls'\n",
    "cwd=os.getcwd()\n",
    "datafolder='StateOESDatasets'\n",
    "ss = os.path.join(cwd,datafile)\n",
    "\n",
    "readxls = pd.read_excel(ss)    #read excel file into variable\n",
    "listrow=list(readxls.loc[0])    #list of 1st row of data\n",
    "headercols = readxls.columns.values.tolist()    #list of header row\n",
    "print(listrow)\n",
    "dictdata = dict(zip(headercols,listrow))    #dict of header:row data\n"
   ]
  },
  {
   "cell_type": "code",
   "execution_count": 149,
   "metadata": {},
   "outputs": [
    {
     "name": "stdout",
     "output_type": "stream",
     "text": [
      "2.6.0\n",
      "C:\\Users\\napie\\OneDrive\\Documents\\GitHub\\TeacherSalary\\StateOESDatasets\\TeacherSalary.db\n"
     ]
    }
   ],
   "source": [
    "# Create Database\n",
    "import sqlite3\n",
    "from sqlite3 import Error\n",
    " \n",
    " \n",
    "def create_connection(db_file):\n",
    "    \"\"\" create a database connection to a SQLite database \"\"\"\n",
    "    try:\n",
    "        conn = sqlite3.connect(db_file)\n",
    "        print(sqlite3.version)\n",
    "    except Error as e:\n",
    "        print(e)\n",
    "    finally:\n",
    "        conn.close()\n",
    " \n",
    "if __name__ == '__main__':\n",
    "    database = 'TeacherSalary.db'\n",
    "    cwd=os.getcwd()\n",
    "    dbfolder='TeacherSalary'\n",
    "    ss = os.path.join(cwd,database)\n",
    "    create_connection(ss)\n",
    "\n",
    "    print(ss)"
   ]
  },
  {
   "cell_type": "code",
   "execution_count": null,
   "metadata": {},
   "outputs": [],
   "source": []
  }
 ],
 "metadata": {
  "kernelspec": {
   "display_name": "Python 3",
   "language": "python",
   "name": "python3"
  },
  "language_info": {
   "codemirror_mode": {
    "name": "ipython",
    "version": 3
   },
   "file_extension": ".py",
   "mimetype": "text/x-python",
   "name": "python",
   "nbconvert_exporter": "python",
   "pygments_lexer": "ipython3",
   "version": "3.6.5"
  },
  "toc": {
   "base_numbering": 1,
   "nav_menu": {},
   "number_sections": false,
   "sideBar": false,
   "skip_h1_title": false,
   "title_cell": "Table of Contents",
   "title_sidebar": "Contents",
   "toc_cell": false,
   "toc_position": {},
   "toc_section_display": false,
   "toc_window_display": false
  }
 },
 "nbformat": 4,
 "nbformat_minor": 2
}
